{
  "nbformat": 4,
  "nbformat_minor": 0,
  "metadata": {
    "colab": {
      "private_outputs": true,
      "provenance": []
    },
    "kernelspec": {
      "name": "python3",
      "display_name": "Python 3"
    },
    "language_info": {
      "name": "python"
    }
  },
  "cells": [
    {
      "cell_type": "code",
      "source": [
        "import pandas as pd\n",
        "import matplotlib.pyplot as plt\n",
        "import seaborn as sns"
      ],
      "metadata": {
        "id": "hWRG_2lU0h7E"
      },
      "execution_count": null,
      "outputs": []
    },
    {
      "cell_type": "code",
      "source": [
        "df=pd.read_csv('features_raw.csv')"
      ],
      "metadata": {
        "id": "gUZCT9qg0pff"
      },
      "execution_count": null,
      "outputs": []
    },
    {
      "cell_type": "code",
      "source": [
        "df.drop(\"Unnamed: 32\",axis=1,inplace=True)"
      ],
      "metadata": {
        "id": "qDgG8Rye023h"
      },
      "execution_count": null,
      "outputs": []
    },
    {
      "cell_type": "code",
      "source": [
        "df"
      ],
      "metadata": {
        "id": "I6B33mq56ohy"
      },
      "execution_count": null,
      "outputs": []
    },
    {
      "cell_type": "code",
      "source": [
        "df.columns"
      ],
      "metadata": {
        "id": "pV758WJa1AhD"
      },
      "execution_count": null,
      "outputs": []
    },
    {
      "cell_type": "code",
      "source": [
        "plt.figure(figsize=(10,10))\n",
        "sns.boxplot(df)\n"
      ],
      "metadata": {
        "id": "9FMehdzk2iZI"
      },
      "execution_count": null,
      "outputs": []
    },
    {
      "cell_type": "code",
      "source": [
        "\n",
        "# Calculate Q1, Q3, and IQR for each column\n",
        "Q1 = df.quantile(0.25)\n",
        "Q3 = df.quantile(0.75)\n",
        "IQR = Q3 - Q1\n",
        "\n",
        "# Define lower and upper bounds for outliers\n",
        "lower_bound = Q1 - 1.5 * IQR\n",
        "upper_bound = Q3 + 1.5 * IQR\n",
        "\n",
        "# Remove outliers\n",
        "df_filtered = df[~((df < lower_bound) | (df > upper_bound)).any(axis=1)]\n",
        "\n",
        "# Visualize the filtered data\n",
        "plt.figure(figsize=(10,10))\n",
        "sns.boxplot(df_filtered)\n",
        "plt.show()\n"
      ],
      "metadata": {
        "id": "fBAmdPuB2YZy"
      },
      "execution_count": null,
      "outputs": []
    },
    {
      "cell_type": "code",
      "source": [
        "df"
      ],
      "metadata": {
        "id": "rxWA_pir61LK"
      },
      "execution_count": null,
      "outputs": []
    },
    {
      "cell_type": "code",
      "source": [
        "from sklearn.model_selection import train_test_split\n",
        "\n",
        "# Split the data into training and testing sets\n",
        "train_data, test_data = train_test_split(df_filtered, test_size=0.2, random_state=42)\n",
        "\n",
        "# Save the training data to a CSV file\n",
        "train_data.to_csv('train_data.csv', index=False)\n",
        "\n",
        "# Save the testing data to a CSV file\n",
        "test_data.to_csv('test_data.csv', index=False)\n"
      ],
      "metadata": {
        "id": "vFeJrvuN3JGy"
      },
      "execution_count": null,
      "outputs": []
    },
    {
      "cell_type": "code",
      "source": [
        "import pandas as pd\n",
        "\n",
        "# Load the training data\n",
        "train_data = pd.read_csv('train_data.csv')\n",
        "\n",
        "# Calculate the predicted attention values based on Fz, Pz, P3, and Cz\n",
        "train_data['predicted_attention_values'] = (train_data['Fz'] + train_data['Pz'] + train_data['P3'] + train_data['Cz']) / 4\n",
        "\n",
        "# Normalize the predicted attention values to the range of 0 to 1\n",
        "train_data['predicted_attention_values'] = (train_data['predicted_attention_values'] - train_data['predicted_attention_values'].min()) / (train_data['predicted_attention_values'].max() - train_data['predicted_attention_values'].min())\n",
        "\n",
        "# Display the updated training data\n",
        "print(train_data)\n"
      ],
      "metadata": {
        "id": "a7uYqEJd3eLC"
      },
      "execution_count": null,
      "outputs": []
    },
    {
      "cell_type": "code",
      "source": [
        "from sklearn.ensemble import RandomForestRegressor\n",
        "from sklearn.preprocessing import MinMaxScaler\n",
        "\n",
        "# Select the features and target variable\n",
        "X_train = train_data[['Fz', 'Pz', 'P3', 'Cz']]\n",
        "y_train = train_data['predicted_attention_values']\n",
        "\n",
        "# Create a Random Forest Regressor model\n",
        "rf_model = RandomForestRegressor(n_estimators=100, random_state=42)\n",
        "\n",
        "# Train the model\n",
        "rf_model.fit(X_train, y_train)\n",
        "\n",
        "# Make predictions on the training data\n",
        "train_data['predicted_attention_values_rf'] = rf_model.predict(X_train)\n",
        "\n",
        "# Normalize the predicted values to the range of 0 to 1\n",
        "scaler = MinMaxScaler()\n",
        "train_data['predicted_attention_values_rf'] = scaler.fit_transform(train_data[['predicted_attention_values_rf']])\n",
        "\n",
        "# Display the updated training data\n",
        "print(train_data)\n"
      ],
      "metadata": {
        "id": "HweNyE0-8Pkr"
      },
      "execution_count": null,
      "outputs": []
    },
    {
      "cell_type": "code",
      "source": [
        "import xgboost as xgb\n",
        "from sklearn.preprocessing import MinMaxScaler\n",
        "\n",
        "# Select the features and target variable\n",
        "X_train = train_data[['Fz', 'Pz', 'P3', 'Cz']]\n",
        "y_train = train_data['predicted_attention_values']\n",
        "\n",
        "# Create an XGBoost Regressor model\n",
        "xgb_model = xgb.XGBRegressor(n_estimators=100, random_state=42)\n",
        "\n",
        "# Train the model\n",
        "xgb_model.fit(X_train, y_train)\n",
        "\n",
        "# Make predictions on the training data\n",
        "train_data['predicted_attention_values_xgb'] = xgb_model.predict(X_train)\n",
        "\n",
        "# Normalize the predicted values to the range of 0 to 1\n",
        "scaler = MinMaxScaler()\n",
        "train_data['predicted_attention_values_xgb'] = scaler.fit_transform(train_data[['predicted_attention_values_xgb']])\n",
        "\n",
        "# Display the updated training data\n",
        "print(train_data)\n"
      ],
      "metadata": {
        "id": "PfWyJaYI9cem"
      },
      "execution_count": null,
      "outputs": []
    },
    {
      "cell_type": "code",
      "source": [
        "from sklearn.metrics import mean_squared_error, r2_score\n",
        "\n",
        "# Calculate the mean squared error\n",
        "mse = mean_squared_error(train_data['predicted_attention_values'], train_data['predicted_attention_values_xgb'])\n",
        "print(f'Mean Squared Error: {mse}')\n",
        "\n",
        "# Calculate the R-squared score\n",
        "r2 = r2_score(train_data['predicted_attention_values'], train_data['predicted_attention_values_xgb'])\n",
        "print(f'R-squared: {r2}')\n"
      ],
      "metadata": {
        "id": "tKs2dFMf9uVP"
      },
      "execution_count": null,
      "outputs": []
    },
    {
      "cell_type": "code",
      "source": [
        "# Load the testing data\n",
        "test_data = pd.read_csv('test_data.csv')\n",
        "\n",
        "# Calculate the predicted attention values based on Fz, Pz, P3, and Cz\n",
        "test_data['predicted_attention_values'] = (test_data['Fz'] + test_data['Pz'] + test_data['P3'] + test_data['Cz']) / 4\n",
        "\n",
        "# Normalize the predicted attention values to the range of 0 to 1\n",
        "test_data['predicted_attention_values'] = (test_data['predicted_attention_values'] - test_data['predicted_attention_values'].min()) / (test_data['predicted_attention_values'].max() - test_data['predicted_attention_values'].min())\n",
        "\n",
        "# Select the features and target variable for testing data\n",
        "X_test = test_data[['Fz', 'Pz', 'P3', 'Cz']]\n",
        "y_test = test_data['predicted_attention_values']\n",
        "\n",
        "# Make predictions on the testing data using the trained XGBoost model\n",
        "test_data['predicted_attention_values_xgb'] = xgb_model.predict(X_test)\n",
        "\n",
        "# Normalize the predicted values to the range of 0 to 1\n",
        "scaler = MinMaxScaler()\n",
        "test_data['predicted_attention_values_xgb'] = scaler.fit_transform(test_data[['predicted_attention_values_xgb']])\n",
        "\n",
        "# Calculate the mean squared error for testing data\n",
        "mse_test = mean_squared_error(test_data['predicted_attention_values'], test_data['predicted_attention_values_xgb'])\n",
        "print(f'Mean Squared Error (Test Data): {mse_test}')\n",
        "\n",
        "# Calculate the R-squared score for testing data\n",
        "r2_test = r2_score(test_data['predicted_attention_values'], test_data['predicted_attention_values_xgb'])\n",
        "print(f'R-squared (Test Data): {r2_test}')\n",
        "\n",
        "# Calculate the mean squared error for training data (already calculated in the previous code)\n",
        "print(f'Mean Squared Error (Training Data): {mse}')\n",
        "\n",
        "# Calculate the R-squared score for training data (already calculated in the previous code)\n",
        "print(f'R-squared (Training Data): {r2}')\n"
      ],
      "metadata": {
        "id": "fioq4jyZA_uv"
      },
      "execution_count": null,
      "outputs": []
    },
    {
      "cell_type": "code",
      "source": [
        "\n",
        "# Make predictions on the testing data using the trained Random Forest model\n",
        "test_data['predicted_attention_values_rf'] = rf_model.predict(X_test)\n",
        "\n",
        "# Normalize the predicted values to the range of 0 to 1\n",
        "scaler = MinMaxScaler()\n",
        "test_data['predicted_attention_values_rf'] = scaler.fit_transform(test_data[['predicted_attention_values_rf']])\n",
        "\n",
        "# Calculate the mean squared error for testing data (Random Forest)\n",
        "mse_test_rf = mean_squared_error(test_data['predicted_attention_values'], test_data['predicted_attention_values_rf'])\n",
        "print(f'Mean Squared Error (Test Data - Random Forest): {mse_test_rf}')\n",
        "\n",
        "# Calculate the R-squared score for testing data (Random Forest)\n",
        "r2_test_rf = r2_score(test_data['predicted_attention_values'], test_data['predicted_attention_values_rf'])\n",
        "print(f'R-squared (Test Data - Random Forest): {r2_test_rf}')\n",
        "\n",
        "# Calculate the mean squared error for training data (Random Forest)\n",
        "mse_train_rf = mean_squared_error(train_data['predicted_attention_values'], train_data['predicted_attention_values_rf'])\n",
        "print(f'Mean Squared Error (Training Data - Random Forest): {mse_train_rf}')\n",
        "\n",
        "# Calculate the R-squared score for training data (Random Forest)\n",
        "r2_train_rf = r2_score(train_data['predicted_attention_values'], train_data['predicted_attention_values_rf'])\n",
        "print(f'R-squared (Training Data - Random Forest): {r2_train_rf}')\n"
      ],
      "metadata": {
        "id": "K3AHIt4ECiay"
      },
      "execution_count": null,
      "outputs": []
    },
    {
      "cell_type": "code",
      "source": [
        "\n",
        "from sklearn.tree import DecisionTreeRegressor\n",
        "from sklearn.metrics import mean_squared_error, r2_score\n",
        "\n",
        "# Create a Decision Tree Regressor model\n",
        "dt_model = DecisionTreeRegressor(random_state=42)\n",
        "\n",
        "# Train the model\n",
        "dt_model.fit(X_train, y_train)\n",
        "\n",
        "# Make predictions on the training data\n",
        "train_data['predicted_attention_values_dt'] = dt_model.predict(X_train)\n",
        "\n",
        "# Normalize the predicted values to the range of 0 to 1\n",
        "scaler = MinMaxScaler()\n",
        "train_data['predicted_attention_values_dt'] = scaler.fit_transform(train_data[['predicted_attention_values_dt']])\n",
        "\n",
        "# Calculate the mean squared error for training data (Decision Tree)\n",
        "mse_train_dt = mean_squared_error(train_data['predicted_attention_values'], train_data['predicted_attention_values_dt'])\n",
        "print(f'Mean Squared Error (Training Data - Decision Tree): {mse_train_dt}')\n",
        "\n",
        "# Calculate the R-squared score for training data (Decision Tree)\n",
        "r2_train_dt = r2_score(train_data['predicted_attention_values'], train_data['predicted_attention_values_dt'])\n",
        "print(f'R-squared (Training Data - Decision Tree): {r2_train_dt}')\n",
        "\n",
        "\n",
        "# Make predictions on the testing data using the trained Decision Tree model\n",
        "test_data['predicted_attention_values_dt'] = dt_model.predict(X_test)\n",
        "\n",
        "# Normalize the predicted values to the range of 0 to 1\n",
        "scaler = MinMaxScaler()\n",
        "test_data['predicted_attention_values_dt'] = scaler.fit_transform(test_data[['predicted_attention_values_dt']])\n",
        "\n",
        "# Calculate the mean squared error for testing data (Decision Tree)\n",
        "mse_test_dt = mean_squared_error(test_data['predicted_attention_values'], test_data['predicted_attention_values_dt'])\n",
        "print(f'Mean Squared Error (Test Data - Decision Tree): {mse_test_dt}')\n",
        "\n",
        "# Calculate the R-squared score for testing data (Decision Tree)\n",
        "r2_test_dt = r2_score(test_data['predicted_attention_values'], test_data['predicted_attention_values_dt'])\n",
        "print(f'R-squared (Test Data - Decision Tree): {r2_test_dt}')\n"
      ],
      "metadata": {
        "id": "MuKKid-LCs0T"
      },
      "execution_count": null,
      "outputs": []
    },
    {
      "cell_type": "code",
      "source": [
        "# Create a dictionary to store the model performance metrics\n",
        "data = {\n",
        "    'Model': ['Random Forest', 'XGBoost', 'Decision Tree'],\n",
        "    'MSE (Train)': [mse_train_rf, mse, mse_train_dt],\n",
        "    'R-squared (Train)': [r2_train_rf, r2, r2_train_dt],\n",
        "    'MSE (Test)': [mse_test_rf, mse_test, mse_test_dt],\n",
        "    'R-squared (Test)': [r2_test_rf, r2_test, r2_test_dt]\n",
        "}\n",
        "\n",
        "# Create a pandas DataFrame from the dictionary\n",
        "df_results = pd.DataFrame(data)\n",
        "\n",
        "# Display the DataFrame\n",
        "print(df_results)\n"
      ],
      "metadata": {
        "id": "M5V-4rNeCzjm"
      },
      "execution_count": null,
      "outputs": []
    },
    {
      "cell_type": "code",
      "source": [
        "# Create a separate DataFrame for each model\n",
        "rf_results = df_results[df_results['Model'] == 'Random Forest']\n",
        "xgb_results = df_results[df_results['Model'] == 'XGBoost']\n",
        "dt_results = df_results[df_results['Model'] == 'Decision Tree']\n",
        "\n",
        "# Transpose the DataFrames for better heatmap visualization\n",
        "rf_results = rf_results.set_index('Model').transpose()\n",
        "xgb_results = xgb_results.set_index('Model').transpose()\n",
        "dt_results = dt_results.set_index('Model').transpose()\n",
        "\n",
        "# Create heatmaps for each model\n",
        "plt.figure(figsize=(8, 6))\n",
        "sns.heatmap(rf_results, annot=True, cmap='viridis', fmt=\".4f\")\n",
        "plt.title('Random Forest Model Performance')\n",
        "plt.show()\n",
        "\n",
        "plt.figure(figsize=(8, 6))\n",
        "sns.heatmap(xgb_results, annot=True, cmap='viridis', fmt=\".4f\")\n",
        "plt.title('XGBoost Model Performance')\n",
        "plt.show()\n",
        "\n",
        "plt.figure(figsize=(8, 6))\n",
        "sns.heatmap(dt_results, annot=True, cmap='viridis', fmt=\".4f\")\n",
        "plt.title('Decision Tree Model Performance')\n",
        "plt.show()\n"
      ],
      "metadata": {
        "id": "z-tWg_GwDzAW"
      },
      "execution_count": null,
      "outputs": []
    }
  ]
}